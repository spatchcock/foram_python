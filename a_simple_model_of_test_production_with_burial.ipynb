{
 "metadata": {
  "name": "",
  "signature": "sha256:d6905175bca25fe76b7526037c14420a1b37ecaa5dfcfc224c2f9f4e6cc3e452"
 },
 "nbformat": 3,
 "nbformat_minor": 0,
 "worksheets": [
  {
   "cells": [
    {
     "cell_type": "markdown",
     "metadata": {},
     "source": [
      "So, lets omit mixing and taphomic decay (for simplicity) but retain the burial term. As before, let's assume the independent variables (e.g. $a$, $R$) are constant (do not vary with depth, $x$, or time, $t$). So we have, from the General Equation,\n",
      "\n",
      "$$\\frac {\\partial C}{\\partial t} = aR - w\\frac {\\partial C}{\\partial x}$$\n",
      "\n",
      "Notice that this has both $x$ and $t$ dimensions and therefore test concentations vary with both time and depth into the sediment. This means we do not simply have one value for the concentration at each point in time. Rather we have a profile of dead test concentration with depth at each point in time. Also, notice that, like before, the rate at which concentration changes through time ($\\frac {\\partial C}{\\partial t}$) is described by the production rate *minus* some other term. The other term is the rate of change in test concentration *due to burial*. But are tests always lost due to burial? Well, no. That depends on whether the $\\frac {\\partial C}{\\partial x}$ term is positive or negative, in other words, if dead test concentrations are increasing or decreasing with depth.\n",
      "\n",
      "Well, the simplest way to solve this partial differential equation is to do it *numerically* via *discretization* and *difference equations*. So let's discretize it by approximating the derivatives,\n",
      "\n",
      "$$\\frac {C_{x, t+1} - C_{x,t}}{\\Delta t} = aR - w \\bigg( \\frac {C_{x,t} - C_{x-1,t}}{\\Delta x} \\bigg)$$\n",
      "\n",
      "Now solving for $C_{x,t+1}$ gives us an expression which relates the concentration at one point in time to the concentraton at the previous point in time. We can use this to propagate the model through time and generate a solution.\n",
      "\n",
      "$$C_{x,t+1} = C_{x,t} + \\Delta t \\bigg[aR - w \\bigg( \\frac {C_{x,t} - C_{x-1,t}}{\\Delta x} \\bigg)   \\bigg]$$\n"
     ]
    },
    {
     "cell_type": "code",
     "collapsed": false,
     "input": [
      "import numpy as np\n",
      "import matplotlib.pyplot as plt\n",
      "%matplotlib inline  "
     ],
     "language": "python",
     "metadata": {},
     "outputs": [],
     "prompt_number": 2
    },
    {
     "cell_type": "code",
     "collapsed": false,
     "input": [
      "x_max = 10.0     # total depth into sediment to model\n",
      "nx    = 100      # number of depth steps\n",
      "dx    = x_max/nx # size of depth step\n",
      "\n",
      "t_max = 100      # total time to model\n",
      "dt    = dx*0.1   # size of time step\n",
      "nt    = t_max/dt # number of time steps\n",
      "\n",
      "C = np.zeros((nt, nx))"
     ],
     "language": "python",
     "metadata": {},
     "outputs": [],
     "prompt_number": 3
    },
    {
     "cell_type": "code",
     "collapsed": false,
     "input": [
      "a = 25.0 # standing crop size\n",
      "R = 2.0  # reproduction rate\n",
      "w = 0.5  # sedimentation rate\n",
      "\n",
      "for ts in np.arange(1,nt-1):\n",
      "    C[ts,0]  = dt*a*R # dC/dx = 0 at x = 0 \n",
      "    C[ts,1:] = C[ts-1,1:] + dt * (a*R - w*(C[ts-1,1:] - C[ts-1,0:-1])/dx)\n"
     ],
     "language": "python",
     "metadata": {},
     "outputs": [],
     "prompt_number": 4
    },
    {
     "cell_type": "code",
     "collapsed": false,
     "input": [
      "fig = plt.figure()\n",
      "\n",
      "p = fig.add_subplot(111, xlim=(0, nx), ylim=(np.min(C)*1.1, np.max(C)*1.1))\n",
      "plt.plot(C[200,:], lw=3)\n",
      "plt.plot(C[500,:], lw=3)\n",
      "plt.plot(C[1000,:], lw=3)\n",
      "plt.plot(C[1500,:], lw=3)\n",
      "plt.plot(C[5000,:], lw=3)\n",
      "plt.grid()\n",
      "plt.xlabel('depth, x')\n",
      "plt.ylabel('dead test concentration, C')\n",
      "\n",
      "plt.show()"
     ],
     "language": "python",
     "metadata": {},
     "outputs": [
      {
       "metadata": {},
       "output_type": "display_data",
       "png": "[encoded data removed]",
       "text": [
        "<matplotlib.figure.Figure at 0x7f1eeab812d0>"
       ]
      }
     ],
     "prompt_number": 5
    },
    {
     "cell_type": "code",
     "collapsed": false,
     "input": [],
     "language": "python",
     "metadata": {},
     "outputs": [],
     "prompt_number": 0
    },
    {
     "cell_type": "code",
     "collapsed": false,
     "input": [],
     "language": "python",
     "metadata": {},
     "outputs": [],
     "prompt_number": 0
    },
    {
     "cell_type": "code",
     "collapsed": false,
     "input": [],
     "language": "python",
     "metadata": {},
     "outputs": [],
     "prompt_number": 0
    },
    {
     "cell_type": "code",
     "collapsed": false,
     "input": [],
     "language": "python",
     "metadata": {},
     "outputs": [],
     "prompt_number": 0
    },
    {
     "cell_type": "code",
     "collapsed": false,
     "input": [],
     "language": "python",
     "metadata": {},
     "outputs": []
    }
   ],
   "metadata": {}
  }
 ]
}