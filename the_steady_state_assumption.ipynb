{
 "metadata": {
  "name": "",
  "signature": "sha256:24dbb21283e51855741ead2855433b04565338db51eeca73838b61b67b75ea24"
 },
 "nbformat": 3,
 "nbformat_minor": 0,
 "worksheets": [
  {
   "cells": [
    {
     "cell_type": "markdown",
     "metadata": {},
     "source": [
      "*Modelling foraminiferal test accumulation in Python* by Andrew Berkeley"
     ]
    },
    {
     "cell_type": "heading",
     "level": 3,
     "metadata": {},
     "source": [
      "The Steady State Assumption"
     ]
    },
    {
     "cell_type": "markdown",
     "metadata": {},
     "source": [
      "What if we return to the same spot time and time again and collect sediment samples which always show the same quantities of foraminifera: the same absolute concentrations, the same relative species abundances. We might interpret this as meaning that nothing is happening - no test production, no loss, no burial. Alternatively, it may be that the processes that are operating happen to be in some sort of equilibrium: the number of tests introduced between sampling times is equal to the number removed. In this case, the processes are said to be in *dynamic equilibrium* and the system as a whole is at a *steady state*.\n",
      "\n",
      "For scenarios which are in steady state, the General Foraminiferal Equation is simplified a little since, if there is no change with time ($\\frac {\\partial C}{\\partial t} = 0$), it becomes,\n",
      "\n",
      "$$0 = D(x)\\frac {\\partial ^2C}{\\partial x^2} - w\\frac {\\partial C}{\\partial x} + a(x)R(x) - \\lambda(x) C$$\n",
      "\n",
      "What this equation now states is that, despite several processes still being described (mixing, burial, test production and loss) the net change to the concentration of dead tests when all are considered is equal zero. This must mean that the various processes are in some sort of balance. \n",
      "\n",
      "Assuming a steady-state may be necessary if we only have data from one point in time - we cannot resolve changes through time on that basis and so assuming that the data is representative of *all times* (because the system is in equilibrium) allows to unpick the individual processes. "
     ]
    },
    {
     "cell_type": "heading",
     "level": 3,
     "metadata": {},
     "source": [
      "A simple example with surface assemblages"
     ]
    },
    {
     "cell_type": "markdown",
     "metadata": {},
     "source": [
      "To make this a bit easier to see, consider a really simple case. Let's drop the mixing and burial terms and consider only a surface sediment (or any fixed sediment layer). This means we don't have to consider variations in any of the variables with depth. The general equation becomes,\n",
      "\n",
      "$$\\frac {\\partial C}{\\partial t} = aR - \\lambda C$$\n",
      "\n",
      "So, with the assumption of steady-state ($\\frac {\\partial C}{\\partial t} = 0$) we get,\n",
      "\n",
      "$$aR = \\lambda C$$\n",
      "\n",
      "This just states that the rate of test production (left hand side) is equal to the rate of test loss (right hand side) - any tests that are added in a given time period by test production are removed by taphonomic processes, leaving the total number of tests unchanged. Notice that time does not appear in this equation and therefore there is no dependency on it. And although $C$ is a dynamic variable in the general equation, the equation above implies an unchanging, constant value for $C$ (since $a$, $R$ and $\\lambda$ are being considered constants). We can call this the steady state concentration. Solving for $C$,\n",
      "\n",
      "$$C^* = a \\frac {R}{\\lambda}$$\n",
      "\n",
      "where $C^*$ denotes a *steady state* concentration. So for a single sediment layer (e.g. the surface layer) with no mixing or sedimentation and at steady state, we should expect the dead test concentration ($C$) to exceed the size of the standing crop ($a$) by a factor of $\\frac {R}{\\lambda}$, i.e. the ratio of the reproduction rate and the taphonomic decay rate.\n",
      "\n",
      "A moments reflection shows that this equation cannot possibly explain the *entire* history of the assemblage. If it was true, for the entire history of the assemblage, that all the tests added were concomitantly removed, then test accumulation would never get started and there would be no assemblage at all! Let's go back to the first equation in this section and solve it properly, without *assuming* steady state. We get, \n",
      "\n",
      "$$C(t) = a \\frac {R}{\\lambda} \\Big[1 - \\exp(-\\lambda t) \\Big]$$\n",
      "\n",
      "Okay, so this shows how tests accumulate *as function of time* within a single layer (ignoring burial, mixing, etc.) and is therefore not explicitly a steady-state model. Let use some Python code to plot the time evolution of the assemblage to see what happens."
     ]
    },
    {
     "cell_type": "markdown",
     "metadata": {},
     "source": [
      "First we just need to import some required libraries. <code>numpy</code> allows us to easily work with arrays of numbers, while <code>matplotlib</code> gives us plotting functionality"
     ]
    },
    {
     "cell_type": "code",
     "collapsed": false,
     "input": [
      "import numpy as np\n",
      "import matplotlib.pyplot as plt\n",
      "%matplotlib inline  "
     ],
     "language": "python",
     "metadata": {},
     "outputs": [],
     "prompt_number": 6
    },
    {
     "cell_type": "markdown",
     "metadata": {},
     "source": [
      "We'll evaluate the equation for a number of values for time. We'll use the <code>numpy .arange()</code> function to produce a list of numbers from 0 to 200 to represent each successive time, $t$."
     ]
    },
    {
     "cell_type": "code",
     "collapsed": false,
     "input": [
      "t = np.arange(200)"
     ],
     "language": "python",
     "metadata": {},
     "outputs": [],
     "prompt_number": 17
    },
    {
     "cell_type": "markdown",
     "metadata": {},
     "source": [
      "Now we need to set values for the population size ($a$), the reproduction rate ($R$) and the taphonomic decay rate ($\\lambda$)."
     ]
    },
    {
     "cell_type": "code",
     "collapsed": false,
     "input": [
      "a = 50\n",
      "R = 1.0\n",
      "lmbda = 0.05 # lambda is a reserved word in Python"
     ],
     "language": "python",
     "metadata": {},
     "outputs": [],
     "prompt_number": 18
    },
    {
     "cell_type": "markdown",
     "metadata": {},
     "source": [
      "And now we can simply evaluate the equation for each time in our <code>t</code> variable. Because <code>t</code> is a <code>numpy</code> array, we can pass it in to basic mathematical operations and the operation is evaluated for every value in the array - that is, the output is an array of results."
     ]
    },
    {
     "cell_type": "code",
     "collapsed": false,
     "input": [
      "C = a*(R/lmbda)*(1 - (np.exp(-lmbda*t)))"
     ],
     "language": "python",
     "metadata": {},
     "outputs": [],
     "prompt_number": 16
    },
    {
     "cell_type": "markdown",
     "metadata": {},
     "source": [
      "So now we have a new array, <code>C</code>, which contains the modelled dead test concentrations at each time according to the equation above. Let's plot it out to see what we notice."
     ]
    },
    {
     "cell_type": "code",
     "collapsed": false,
     "input": [
      "fig = plt.figure()\n",
      "\n",
      "p = fig.add_subplot(111, xlim=(0, t[-1]), ylim=(0, np.max(C)*1.1))\n",
      "p.plot(t, C, lw=3)\n",
      "plt.grid()\n"
     ],
     "language": "python",
     "metadata": {},
     "outputs": [
      {
       "metadata": {},
       "output_type": "display_data",
       "png": "[encoded data removed]",
       "text": [
        "<matplotlib.figure.Figure at 0x7fd2a86a34d0>"
       ]
      }
     ],
     "prompt_number": 19
    },
    {
     "cell_type": "markdown",
     "metadata": {},
     "source": [
      "Well the first thing worth noting is that there are certainly some changes in test concentration with time. But look what happens as time proceeds. The addition of tests slows down and eventually stops, and the test concentration remains stable. The stable value is 1000 tests (per unit of sediment)."
     ]
    },
    {
     "cell_type": "markdown",
     "metadata": {},
     "source": [
      "But the term in square brackets gives us a hint as to how we can reconcile these two descriptions. The term contains an exponential decay function which converges to zero as time increases. The term in square brackets therefore converges to 1 through time, and the entire expression converges to $a \\frac {R}{\\lambda}$. This is the same as the steady state solution ($C^*$) that we derived earlier. So now we can see that $C^*$ is a test concentration that is reached *after some period of time*, and once it is reached it does not change because it is the concentration at which test production matches test loss. \n",
      "\n",
      "\n",
      "\n",
      "If we're not interested in resolving the full history of test accumulation we can bypass the time dependent model and skip straight to the steady state solution, $C^*$.\n",
      "\n",
      "Explain how last term goes to zero and we're left with same equation as above.\n",
      "So the system converges to a steady state after whcih no change occurs\n",
      "Plot some examples in python\n",
      "Explain that in more complicated scenarios, a steady state might not be reached, but given the taphonomic decay term it is likely in many scenarios - basically when concentrations reach a certain point, the propertion lost is equal to the amount added."
     ]
    },
    {
     "cell_type": "code",
     "collapsed": false,
     "input": [],
     "language": "python",
     "metadata": {},
     "outputs": []
    },
    {
     "cell_type": "heading",
     "level": 3,
     "metadata": {},
     "source": [
      "An example with cored data"
     ]
    },
    {
     "cell_type": "markdown",
     "metadata": {},
     "source": [
      "The steady-state assumption may be particularly useful when looking at cored data which represents test accumulation over long timescales (e.g. decades, centuries). It is obviously difficult to collect repeated cores over such timescalesWe can imagine that as sediment accumulates over long time periods and the zones of foraminiferal test production and taphonomic shift up with it, that the profile of accumulate dead tests does not change each time we resample. \n",
      "\n",
      "$$0 = - w\\frac {\\partial C}{\\partial x} + a(x)R(x) - \\lambda(x) C$$\n",
      "\n",
      "which we can rearrange to,\n",
      "\n",
      "$$\\frac {\\partial C}{\\partial x} = \\frac {a(x)R(x) - \\lambda(x) C}{w}$$\n",
      "\n",
      "This now explicitly describes test concentration *as a function of depth only*, implying a steady-state scenario. \n",
      "\n",
      "If we assume no taphonomic loss then we get\n",
      "\n",
      "\n",
      "$$C^* = \\frac {aRx}{w}$$\n"
     ]
    },
    {
     "cell_type": "markdown",
     "metadata": {},
     "source": []
    },
    {
     "cell_type": "code",
     "collapsed": false,
     "input": [],
     "language": "python",
     "metadata": {},
     "outputs": []
    }
   ],
   "metadata": {}
  }
 ]
}