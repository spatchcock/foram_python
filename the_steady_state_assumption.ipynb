{
 "metadata": {
  "name": "",
  "signature": "sha256:21afd132ea4829122083560d980452a0892a39695b3cb9ccacbc6909de00324e"
 },
 "nbformat": 3,
 "nbformat_minor": 0,
 "worksheets": [
  {
   "cells": [
    {
     "cell_type": "markdown",
     "metadata": {},
     "source": [
      "*Modelling foraminiferal test accumulation in Python* by Andrew Berkeley"
     ]
    },
    {
     "cell_type": "heading",
     "level": 3,
     "metadata": {},
     "source": [
      "The Steady State Assumption"
     ]
    },
    {
     "cell_type": "markdown",
     "metadata": {},
     "source": [
      "What if we return to the same spot time and time again and collect sediment samples which always show the same quantities of foraminifera: the same absolute concentrations, the same relative species abundances. We might interpret this as meaning that nothing is happening - no test production, no loss, no burial. Alternatively, it may be that the processes that are operating happen to be in some sort of equilibrium: the number of tests introduced between sampling times is equal to the number removed. In this case, the processes are said to be in *dynamic equilibrium* and the system as a whole is at a *steady state*.\n",
      "\n",
      "For scenarios which are in steady state, the General Foraminiferal Equation is simplified a little since, if there is no change with time ($\\frac {\\partial C}{\\partial t} = 0$), it becomes,\n",
      "\n",
      "$$0 = D(x)\\frac {\\partial ^2C}{\\partial x^2} - w\\frac {\\partial C}{\\partial x} + a(x)R(x) - \\lambda(x) C$$\n",
      "\n",
      "What this equation now states is that, despite several processes still being described (mixing, burial, test production and loss) the net change to the concentration of dead tests when all are considered is equal zero. This must mean that the various processes are in some sort of balance. \n",
      "\n",
      "Assuming a steady-state may be necessary if we only have data from one point in time - we cannot resolve changes through time on that basis and so assuming that the data is representative of *all times* (because the system is in equilibrium) allows to unpick the individual processes. "
     ]
    },
    {
     "cell_type": "heading",
     "level": 3,
     "metadata": {},
     "source": [
      "A simple example with surface assemblages"
     ]
    },
    {
     "cell_type": "markdown",
     "metadata": {},
     "source": [
      "To make this a bit easier to see, consider a really simple case. Let's drop the mixing and burial terms and consider only a surface sediment (or any fixed sediment layer). This means we don't have to consider variations in any of the variables with depth. The general equation becomes,\n",
      "\n",
      "$$\\frac {\\partial C}{\\partial t} = aR - \\lambda C$$\n",
      "\n",
      "So, with the assumption of steady-state ($\\frac {\\partial C}{\\partial t} = 0$) we get,\n",
      "\n",
      "$$aR = \\lambda C$$\n",
      "\n",
      "This just states that the rate of test production (left hand side) is equal to the rate of test loss (right hand side) - any tests that are added in a given time period are removed, leaving the total number of tests unchanged. Notice that time does not appear in this equation and therefore there is no dependency on it. And although $C$ is a dynamic variable in the general equation, the equation above requires a fixed, constant value for $C$. We can call this the steady state concentration. Solving for $C$,\n",
      "\n",
      "$$C^* = \\frac {R}{\\lambda}a$$\n",
      "\n",
      "where $C^*$ denotes a *steady state* concentration. So for a single sediment layer (e.g. the surface layer) with no mixing or sedimentation and at steady state, we should expect the dead test concentration ($C$) to be proportionate to the size of the standing crop ($a$), and by a factor of $\\frac {R}{\\lambda}$, i.e. the ratio of the reproduction rate and the taphonomic decay rate.\n",
      "\n",
      "A moments reflection shows that this equation cannot possibly explain the entire history of the assemblage. If it was true that all the tests added were removed for the entire history of the assemblage then test accumulation would never get started and there would be no assemblage at all! Let's go back to the first equation in this section and solve it properly, without assuming steady state. We get, \n",
      "\n",
      "$$\n",
      "\\begin{align}\n",
      "C(t) = \\frac {aR}{\\lambda} \\Big[1 - \\exp(-\\lambda t) \\Big] \\\\\n",
      "\\end{align}\n",
      "$$\n",
      "\n",
      "Explain how last term goes to zero and we're left with same equation as above.\n",
      "So the system converges to a steady state after whcih no change occurs\n",
      "Plot some examples in python\n",
      "Explain that in more complicated scenarios, a steady state might not be reached, but given the taphonomic decay term it is likely in many scenarios - basically when concentrations reach a certain point, the propertion lost is equal to the amount added."
     ]
    },
    {
     "cell_type": "heading",
     "level": 3,
     "metadata": {},
     "source": [
      "An example with cored data"
     ]
    },
    {
     "cell_type": "markdown",
     "metadata": {},
     "source": [
      "The steady-state assumption may be particularly useful when looking at cored data which represents test accumulation over long timescales (e.g. decades, centuries). It is obviously difficult to collect repeated cores over such timescalesWe can imagine that as sediment accumulates over long time periods and the zones of foraminiferal test production and taphonomic shift up with it, that the profile of accumulate dead tests does not change each time we resample. \n",
      "\n",
      "$$0 = - w\\frac {\\partial C}{\\partial x} + a(x)R(x) - \\lambda(x) C$$\n",
      "\n",
      "which we can rearrange to,\n",
      "\n",
      "$$\\frac {\\partial C}{\\partial x} = \\frac {a(x)R(x) - \\lambda(x) C}{w}$$\n",
      "\n",
      "This now explicitly describes test concentration *as a function of depth only*, implying a steady-state scenario. \n",
      "\n",
      "If we assume no taphonomic loss then we get\n",
      "\n",
      "\n",
      "$$C^* = \\frac {aRx}{w}$$\n"
     ]
    },
    {
     "cell_type": "markdown",
     "metadata": {},
     "source": []
    },
    {
     "cell_type": "code",
     "collapsed": false,
     "input": [],
     "language": "python",
     "metadata": {},
     "outputs": []
    }
   ],
   "metadata": {}
  }
 ]
}