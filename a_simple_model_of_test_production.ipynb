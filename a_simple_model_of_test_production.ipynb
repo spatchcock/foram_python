{
 "metadata": {
  "name": "",
  "signature": "sha256:ca299485549054f81fcdd1e3ec8ba3a0e3abf96bdf8bc99e68beab5341faacf5"
 },
 "nbformat": 3,
 "nbformat_minor": 0,
 "worksheets": [
  {
   "cells": [
    {
     "cell_type": "markdown",
     "metadata": {},
     "source": [
      "Here, we'll descibe the simplest models of foraminiferal test accumulation. We are going to assume that no sedimentation takes place and therefore we can study the dynamics of test acculation within a *static* (i.e. stationary) volume of sediment. In principle, this volume could be beneath the sediment surface but we'll assume that we are taking about surficial sediments. Again, in principle, this surficial volume could be any thickness (1 cm, 7 cm, 20 cm, ...), but we'll assume we are discussing the first 1 or 2 centimetres, as is conventionally sampled in many studies on modern foraminifera."
     ]
    },
    {
     "cell_type": "heading",
     "level": 3,
     "metadata": {},
     "source": [
      "Test production"
     ]
    },
    {
     "cell_type": "markdown",
     "metadata": {},
     "source": []
    },
    {
     "cell_type": "markdown",
     "metadata": {},
     "source": [
      "Integrating the production rate equation gives an expression for the dead test concentration as a function of time<sup>c</sup>.\n",
      "\n",
      "$$C_t = C_0 + aRt$$\n",
      "\n",
      "Nice and easy, eh? This is a very simple model in which test concentration increases linearly through time from a starting concentration ($C_0$). The number of tests added during the time period under consideration is just rate of test production ($aR$) multiplied by the length of time ($t$). \n",
      "\n",
      "We can use this to model changes in test concentrations over, say, a number of years, or even predict the concentration of tests within sediment devoid of foraminifera (i.e. $C_0 = 0$) at some time $t$ after colonisation."
     ]
    },
    {
     "cell_type": "heading",
     "level": 3,
     "metadata": {},
     "source": [
      "Footnotes"
     ]
    },
    {
     "cell_type": "markdown",
     "metadata": {},
     "source": [
      "(a) One good reason for doing this is that we can often measure the number of individuals living within a volume of sediment at some given time and therefore this can give a good indication of how populations (and *presumably* test production) vary between times, locations and sedimentary depths. But it is often not clear how fast these populations turnover and produce dead tests. Splitting production up into these terms therefore allows us exploit the population data ($a$) that we may have, and also represent distinct ecological concepts (population size and carrying capacity versus reproduction rate). \n",
      "\n",
      "(b) We assume, for now, that the standing crop and reproduction rates stay constant through time. This is a significant simplificiation and may be appropriate in the case of long term studies using good, representative values for the average standing crop. Alternatively, standing crops and/or turnover rates can be modelled as functions of time (i.e. $a(t)$, $R(t)$) in order to specifically represent temporally variabilty. In the case that the standing crop is modelled using a time-varying function, some turnover rate is still required to convert the population concentration in to a per time input. \n",
      "\n",
      "(c) Ignoring taphonomic loss, sedimentation, and bioturbation."
     ]
    },
    {
     "cell_type": "code",
     "collapsed": false,
     "input": [],
     "language": "python",
     "metadata": {},
     "outputs": []
    }
   ],
   "metadata": {}
  }
 ]
}