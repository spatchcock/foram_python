{
 "metadata": {
  "name": "",
  "signature": "sha256:5582de891d846d89eacbe1b5e7348cb14f576dabcbbb7495f73a145c4c8f7453"
 },
 "nbformat": 3,
 "nbformat_minor": 0,
 "worksheets": [
  {
   "cells": [
    {
     "cell_type": "markdown",
     "metadata": {},
     "source": [
      "Just to show simple this can get and not put you off so early, here's a few more simplifications. What if we're only concerned with very short-term dynamics (e.g. seasonal)? Then we can dispense with burial and arguably mixing which may occur on longer time scales. Then we get simply,\n",
      "\n",
      "\\begin{align}\n",
      "\\frac {\\partial C}{\\partial t} = aR - \\lambda C \\\\\n",
      "\\end{align}\n",
      "Maybe we've even got good reason to discard one of the two terms on the right-hand side of that equation (test production and taphonomic loss), in which case it gets even simpler.\n"
     ]
    },
    {
     "cell_type": "markdown",
     "metadata": {},
     "source": [
      "\\begin{align}\n",
      "\\nabla \\times \\vec{\\mathbf{B}} -\\, \\frac1c\\, \\frac{\\partial\\vec{\\mathbf{E}}}{\\partial t} & = \\frac{4\\pi}{c}\\vec{\\mathbf{j}} \\\\   \\nabla \\cdot \\vec{\\mathbf{E}} & = 4 \\pi \\rho \\\\\n",
      "\\nabla \\times \\vec{\\mathbf{E}}\\, +\\, \\frac1c\\, \\frac{\\partial\\vec{\\mathbf{B}}}{\\partial t} & = \\vec{\\mathbf{0}} \\\\\n",
      "\\nabla \\cdot \\vec{\\mathbf{B}} & = 0 \n",
      "\\end{align}"
     ]
    },
    {
     "cell_type": "code",
     "collapsed": false,
     "input": [],
     "language": "python",
     "metadata": {},
     "outputs": []
    }
   ],
   "metadata": {}
  }
 ]
}