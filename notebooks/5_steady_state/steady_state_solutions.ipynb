{
 "metadata": {
  "name": "",
  "signature": "sha256:e360d010bd89b97cc367e226602f9cb93802a690d411f4c6e879995bc0cc7037"
 },
 "nbformat": 3,
 "nbformat_minor": 0,
 "worksheets": [
  {
   "cells": [
    {
     "cell_type": "markdown",
     "metadata": {},
     "source": [
      "*Modelling foraminiferal test accumulation in Python* by Andrew Berkeley"
     ]
    },
    {
     "cell_type": "heading",
     "level": 3,
     "metadata": {},
     "source": [
      "The Steady State Assumption"
     ]
    },
    {
     "cell_type": "markdown",
     "metadata": {},
     "source": [
      "What if we return to the same spot time and time again and collect sediment samples which always show the same quantities of foraminifera: the same absolute concentrations, the same relative species abundances. We might interpret this as meaning that nothing is happening - no test production, no loss, no burial. Alternatively, it may be that the processes that are operating happen to be in some sort of equilibrium: the number of tests introduced between sampling times is equal to the number removed. In this case, the processes are said to be in *dynamic equilibrium* and the system as a whole is at a *steady state*.\n",
      "\n",
      "For scenarios which are in steady state, the General Foraminiferal Equation is simplified a little since, if there is no change with time ($\\frac {\\partial C}{\\partial t} = 0$), it becomes,\n",
      "\n",
      "$$0 = D(x)\\frac {\\partial ^2C}{\\partial x^2} - w\\frac {\\partial C}{\\partial x} + a(x)R(x) - \\lambda(x) C$$\n",
      "\n",
      "What this equation now states is that, despite several processes still being described (mixing, burial, test production and loss) the net change to the concentration of dead tests when all are considered is equal zero. This must mean that the various processes are in some sort of balance - a *steady state*. Assuming a steady-state is a useful device because it allows us to analyse and explain data from a single point in time without needing to explicitly resolve changes through time."
     ]
    },
    {
     "cell_type": "heading",
     "level": 3,
     "metadata": {},
     "source": [
      "A simple example with surface assemblages"
     ]
    },
    {
     "cell_type": "markdown",
     "metadata": {},
     "source": [
      "Reference other notebook...\n",
      "\n",
      "Okay, so dead test concentrations start off at zero and increase through time. But significantly, the addition of tests slows down and eventually stops, and thereafter the test concentration remains stable. Test accumulation stabilizes at a concentration of about 1000 tests per unit sediment after about 100 time steps. It is not as though test production and taphonomic decay aren't continuing in subsequent timesteps, it is just that they have reached a balance. So it seems there is a kind of inherent stabilizing tendency to this simple model: given sufficient time it will reach a particular state and stay there. When we invoke an assumption or an interpretation of a *steady-state*, we are usually implying that the system has reached some similar sort of inherent equlibrium phase. \n",
      "\n",
      "And if we're only interested in the steady-state rather than the complete time evolution, then we can take a short cut. Remember that if $C$ is stable, not changing, then mathematically we can say that $\\frac {d C}{d t} = 0$ - the *rate of change of $C$* is zero. A visual illustration of this is the flattening of the line in the plot after about $t = 100$. So the steady-state phase is characterised by - no, *defined* by - $\\frac {d C}{d t} = 0$. This means we can use equation (1) in a different way, rather than formerly solving it. Let's set the left-hand side to zero,\n",
      "\n",
      "$$0 = aR - \\lambda C^* $$\n",
      "\n",
      "\n",
      "where we now adopt $C^*$ as the steady-state concentration. This can be easily solved for $C^*$,\n",
      "\n",
      "\n",
      "$$C^* = a \\frac {R}{\\lambda} \\hspace{1cm} (3) $$\n",
      "\n",
      "So now we have an explicit statement of the steady state concentration without having to solve the entire history of the assemblage. Let's solve this using Python..."
     ]
    },
    {
     "cell_type": "code",
     "collapsed": false,
     "input": [
      "import numpy as np\n",
      "import matplotlib.pyplot as plt\n",
      "%matplotlib inline  "
     ],
     "language": "python",
     "metadata": {},
     "outputs": [],
     "prompt_number": 2
    },
    {
     "cell_type": "code",
     "collapsed": false,
     "input": [
      "a = 50\n",
      "R = 1.0\n",
      "lmbda = 0.05 # lambda is a reserved word in Python"
     ],
     "language": "python",
     "metadata": {},
     "outputs": [],
     "prompt_number": 3
    },
    {
     "cell_type": "code",
     "collapsed": false,
     "input": [
      "# We've already defined the independent variables\n",
      "C_star = a * R / lmbda\n",
      "\n",
      "print(C_star)"
     ],
     "language": "python",
     "metadata": {},
     "outputs": [
      {
       "output_type": "stream",
       "stream": "stdout",
       "text": [
        "1000.0\n"
       ]
      }
     ],
     "prompt_number": 4
    },
    {
     "cell_type": "markdown",
     "metadata": {},
     "source": [
      "So equation (3) predicts a steady-state concentration of 1000 tests per unit of sediment. And what was the stable value generated from equation (2)? Let's get the last value from our <code>C</code> array."
     ]
    },
    {
     "cell_type": "markdown",
     "metadata": {},
     "source": [
      "Hmmm. Well they're pretty close. So equation (3) is getting to the same steady-state answer as equation (2), and with much less effort! If we look a bit more closely at equation (2) we can see why. Equation (2) looks just like equaton (3) but with an extra term in square brackets. The term in square brackets contains an exponential decay function which converges to zero as time increases and therefore the term in square brackets itself converges to 1. So equation (2) converges towards equation (3, i.e. $a \\frac {R}{\\lambda}$) with increasing time.\n",
      "\n",
      "We can conclude that, for a single sediment layer (e.g. the surface layer) with no mixing or sedimentation and constant rates of test production and taphonomic decay, we should expect the dead test concentration ($C$) to reach a stable size and to exceed the size of the standing crop ($a$) by a factor of $\\frac {R}{\\lambda}$, i.e. the ratio of the reproduction rate and the taphonomic decay rate."
     ]
    },
    {
     "cell_type": "markdown",
     "metadata": {},
     "source": [
      "But why would this system be inherently stable? The answer is down to the way test production and taphonomic loss have been defined. Test production occurs at a constant rate ($aR$). By contrast, the rate of taphonomic loss changes depending on the number of tests already accumulated. More specifically, taphonomic loss is directly proportional to test concentration (defined as $\\lambda C$) and therefore the rate of test loss increases as the test concentration increases. This provides the inherent stabilizing feature: when test concentrations grow large, the rate of further growth is checked by larger decay rates. At some point a dead test concentration will be reached at which the rate of loss happens to equal the rate of addition. And at this point, no more additional tests are added and the concentration stays the same. \n",
      "\n",
      "In general, models with such decay terms might be expected to similarly curtail accumulation. Whatever the size of the decay constant ($\\lambda$), there will always be a concentration at which loss is the same as input (assuming a simple input) and therefore no more accumulation occurs. The decay constant simply determines how long it will take to get to that point. This limiting feedback process is one reason why assumptions of steady-state may be perfectly appropriate."
     ]
    },
    {
     "cell_type": "heading",
     "level": 3,
     "metadata": {},
     "source": [
      "An example with cored data"
     ]
    },
    {
     "cell_type": "markdown",
     "metadata": {},
     "source": [
      "The steady-state assumption may be particularly useful when looking at cored data which represents test accumulation over long timescales (e.g. decades, centuries). It is obviously difficult to collect repeated cores over such timescales. We can imagine that as sediment accumulates over long time periods and the zones of foraminiferal test production and taphonomic shift up with it, that the profile of accumulate dead tests does not change each time we resample: maybe it describes a \"typical\" pattern of taphonomic loss or infaunal species enrichment that persists.\n"
     ]
    },
    {
     "cell_type": "markdown",
     "metadata": {},
     "source": [
      "$$0 = - w\\frac {\\partial C}{\\partial x} + aR$$\n",
      "\n",
      "which we can rearrange to,\n",
      "\n",
      "$$\\frac {d C}{d x} = \\frac {aR}{w}$$\n",
      "\n",
      "This now explicitly describes test concentration *as a function of depth only*, implying a steady-state scenario. \n",
      "\n",
      "If we assume no taphonomic loss then we get\n",
      "\n",
      "\n",
      "$$C^* = \\frac {aRx}{w}$$\n"
     ]
    },
    {
     "cell_type": "code",
     "collapsed": false,
     "input": [
      "x_max = 10.0     # total depth into sediment to model\n",
      "a = 25.0 # standing crop size\n",
      "R = 2.0  # reproduction rate\n",
      "w = 0.5  # sedimentation rate\n",
      "\n",
      "x =np.arange(x_max+1)\n",
      "C_star = a*R*x/w"
     ],
     "language": "python",
     "metadata": {},
     "outputs": [],
     "prompt_number": 8
    },
    {
     "cell_type": "code",
     "collapsed": false,
     "input": [
      "fig = plt.figure()\n",
      "\n",
      "p = fig.add_subplot(111, xlim=(0, x_max), ylim=(np.min(C_star)*1.1, np.max(C_star)*1.1))\n",
      "plt.plot(C_star[:], lw=3)\n",
      "plt.grid()\n",
      "plt.xlabel('depth, x')\n",
      "plt.ylabel('dead test concentration, C')\n",
      "plt.show()"
     ],
     "language": "python",
     "metadata": {},
     "outputs": [
      {
       "metadata": {},
       "output_type": "display_data",
       "png": "[encoded data removed]",
       "text": [
        "<matplotlib.figure.Figure at 0x7f8c0e91b3d0>"
       ]
      }
     ],
     "prompt_number": 9
    },
    {
     "cell_type": "code",
     "collapsed": false,
     "input": [],
     "language": "python",
     "metadata": {},
     "outputs": []
    },
    {
     "cell_type": "code",
     "collapsed": false,
     "input": [],
     "language": "python",
     "metadata": {},
     "outputs": []
    },
    {
     "cell_type": "heading",
     "level": 3,
     "metadata": {},
     "source": [
      "Why?"
     ]
    },
    {
     "cell_type": "markdown",
     "metadata": {},
     "source": [
      "Assuming a steady-state may be necessary if we only have data from one point in time - we cannot resolve changes through time with such and so assuming that the data is representative of *all times* (because the system is in equilibrium) allows us to unpick the individual processes. "
     ]
    },
    {
     "cell_type": "markdown",
     "metadata": {},
     "source": [
      "In many cases it will be a reasonable assumption although this remains a judgement call and may depend on the scale of analysis. Foraminiferal populations and dead assemblages may fluctuate on timescales of weeks or months. But to the extent that these fluctuations average out over longer times scales it may be appropriate to consider them as noise around a more stable, average signal. If an environment can be said to be represented by a \"typical\" suface assemblage (e.g. for palaeoenvironment purposes) or a \"typical\" profile of dead test concentrations with depth (e.g. \"well preserved\", or \"infaunally enriched\") then they can be equally considered to "
     ]
    },
    {
     "cell_type": "code",
     "collapsed": false,
     "input": [],
     "language": "python",
     "metadata": {},
     "outputs": []
    }
   ],
   "metadata": {}
  }
 ]
}