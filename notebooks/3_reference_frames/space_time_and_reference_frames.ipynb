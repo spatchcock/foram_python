{
 "metadata": {
  "name": "",
  "signature": "sha256:ff649643518f04476fd5339e118cdf9162120106855f4ec11d45cf68d500d187"
 },
 "nbformat": 3,
 "nbformat_minor": 0,
 "worksheets": [
  {
   "cells": [
    {
     "cell_type": "heading",
     "level": 1,
     "metadata": {},
     "source": [
      "Space, time and reference frames"
     ]
    },
    {
     "cell_type": "markdown",
     "metadata": {},
     "source": [
      "Let's look at what is probably the simplest model of foraminiferal test accumulation possible. This model will be highly unrealistic but its simplicity will help to elucidate some important concepts relating to time, space and reference frames.\n"
     ]
    },
    {
     "cell_type": "heading",
     "level": 3,
     "metadata": {},
     "source": [
      "Test accumulation in a static reference frame"
     ]
    },
    {
     "cell_type": "markdown",
     "metadata": {},
     "source": [
      "Let's consider a thin volume of sediment at surface of the seabed. A basic axiom is that any foraminiferal tests produced within this small volume must either be *removed* from the volume (e.g taphonomic destruction) or *accumulate* within the volume. Let's assume that taphonomic processes are absent and therefore no tests are lost. We'll also ignore bioturbation which may either remove tests from or add tests to a given volume of sediment. Finally, for simplicity, we'll assume that the rate of test production doesn't vary through time and is therefore a simple constant ($P$). \n",
      "\n",
      "It follows from these assumptions that the concentration of dead tests ($C$) increases at the same constant rate as test production. We can write this formally as,\n",
      "\n",
      "$$\\frac {dC}{dt} = P \\hspace{1cm} (1)$$\n",
      "\n",
      "Integrating this very simple differential equation with respect to $dt$ gives us an explicit expression for dead test concentration within the volume through time ($t$),\n",
      "\n",
      "$$C = C_0 + Pt$$\n",
      "\n",
      "where $C_0$ is the concentration of dead tests at the start (i.e. $t = 0$). It might be obvious that this model is a simple straight line with y-intercept $C_0$ and gradient $P$. So, depending on what the starting concentration ($C_0$) is in the volume we're considering (possibly zero), we can calculate the concentration at any later time, $t$. \n",
      "\n",
      "There are a number of obvious drawbacks to this model. For example, the concentration of tests can become implausibly large with enough time, with nothing to check it. In reality, taphonomic processes may contribute to limiting test concentrations in many cases. But even without taphonomic processes, it is obvious that sediments do not continue to accumulate tests forever because they get buried away from the upper sedimentary zone of test production. So, perhaps the simple model described above would be a reasonable(-ish) model for short timescales where burial can be ignored. But it is not likely to be appropriate for any situation involving the timescales over which burial takes.\n"
     ]
    },
    {
     "cell_type": "heading",
     "level": 2,
     "metadata": {},
     "source": [
      "Tracking a sediment parcel through burial"
     ]
    },
    {
     "cell_type": "markdown",
     "metadata": {},
     "source": [
      "In real systems, test production occurs only over a finite depth interval, below which there is no test production. As sediment accumulates, this zone of test production shifts upwards with the shifting sediment-water interface. From the perspective of our sedimentary volume, this looks like a *downward* movement relative to the sediment-water interface, *through* the zone of test production and beyond. Since the test production rate - *from the perspective of our layer undergoing burial* - now changes through time, our test accumulation model is now a function of time, $t$:\n",
      "\n",
      "$$\\frac {dC}{dt} = P(t)$$\n",
      "\n",
      "Let's imagine, and simple modification to the previous model, where tests are produced at the same rate over a depth of $X$ cm. We'll label this rate $P_0$ to differentiate it from what is now the more generic *function* $P(t)$. When the layer is at a depth $x < X$, it receives tests at a rate $P_0$. When the layer is at a depth $x > X$, it receives no tests. If the rate of sedimentation is $w$, then we can say that the time it takes for the volume to pass through the depth $X$ is $\\frac {X}{w}$. It follows that we can define $P(t)$ as a *step function*,\n",
      "\n",
      "$$P(t) = P_0 \\hspace{1cm} t < \\frac {X}{w}$$\n",
      "\n",
      "$$P(t) = 0 \\hspace{1cm} t > \\frac {X}{w}$$\n",
      "\n",
      "So, from knowing how test production varies *with depth* and knowing the sedimentation rate, we have produced a description of the accumulation of tests in a sedimentary layer undergoing burial.\n",
      "\n",
      "Some python code..."
     ]
    },
    {
     "cell_type": "code",
     "collapsed": false,
     "input": [],
     "language": "python",
     "metadata": {},
     "outputs": []
    },
    {
     "cell_type": "code",
     "collapsed": false,
     "input": [],
     "language": "python",
     "metadata": {},
     "outputs": []
    },
    {
     "cell_type": "markdown",
     "metadata": {},
     "source": [
      "So since the test production rate is constant over the intial period of burial, the tests accumulate similarly to our original example. But this accumulation does at least cease at some point."
     ]
    },
    {
     "cell_type": "markdown",
     "metadata": {},
     "source": [
      "But lets try a slightly (only just) more interesting production function. Lets say it decreases linearly with depth. So $P(x)$ is function of $x$,\n",
      "\n",
      "$$P(x) = P_0 - bx$$\n",
      "\n",
      "So now, $P_0$ is the produciton rate at the sediment surface (i.e. $x = 0$) and the rate of test production decreases with increasing depth. If,\n",
      "\n",
      "$$\\frac {dx}{dt} = w$$\n",
      "\n",
      "then,\n",
      "\n",
      "$$\n",
      "\\begin{array}{rcl}\n",
      "x &=& \\int w \\space dt \\\\\n",
      " &=& x_0 + wt \\\\\n",
      " &=& wt \\\\\n",
      "\\end{array}\n",
      "$$\n",
      "\n",
      "since $x_0 = 0$ (the layer starts at the surface; $x = 0$ at $t = 0$). Substituting in the expression for $P(x)$ we can redefine $P$ as a function of $t$,\n",
      "\n",
      "$$P(t) = P_0 - bwt$$\n",
      "\n",
      "So $P(t)$ reaches zero at a depth of $\\frac {P_0}{b}$ (or a time of $\\frac {P_0}{bw}$)."
     ]
    },
    {
     "cell_type": "markdown",
     "metadata": {},
     "source": [
      "More generally, if we know the depth-dependency of test production, and we know the seidmentation rate, we can derive the time-dependency of test production for a layer undergoing burial."
     ]
    },
    {
     "cell_type": "code",
     "collapsed": false,
     "input": [],
     "language": "python",
     "metadata": {},
     "outputs": []
    },
    {
     "cell_type": "code",
     "collapsed": false,
     "input": [],
     "language": "python",
     "metadata": {},
     "outputs": []
    },
    {
     "cell_type": "code",
     "collapsed": false,
     "input": [],
     "language": "python",
     "metadata": {},
     "outputs": []
    },
    {
     "cell_type": "code",
     "collapsed": false,
     "input": [],
     "language": "python",
     "metadata": {},
     "outputs": []
    },
    {
     "cell_type": "markdown",
     "metadata": {},
     "source": [
      "Things to describe\n",
      "\n",
      "Sedimentation makes assemblage formation finite in time\n",
      "Sedimentation scales processes according to rate"
     ]
    }
   ],
   "metadata": {}
  }
 ]
}