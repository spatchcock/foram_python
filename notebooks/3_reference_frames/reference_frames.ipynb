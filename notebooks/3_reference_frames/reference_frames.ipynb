{
 "metadata": {
  "name": "",
  "signature": "sha256:a748fc12c517b332c6a717641068478f955beb85be19708a1d36e18fff186492"
 },
 "nbformat": 3,
 "nbformat_minor": 0,
 "worksheets": [
  {
   "cells": [
    {
     "cell_type": "markdown",
     "metadata": {},
     "source": [
      "We can choose to include sedimentation or not.\n",
      "\n",
      "If we do not, we are implying a *static* reference frame.\n",
      "\n",
      "If we do, we are implying an *advecting* reference frame.\n",
      "\n",
      "We'd only really want to ignore sedimentation for one reasons:\n",
      "\n",
      "* we are looking at very short term processes\n",
      "\n",
      "Reference frames\n",
      "Fixed depth versus fixed deposit\n",
      "Equation for relating includes advection\n",
      "\n",
      "Even when looking at a fixed depth, we need sedimentation.\n",
      "\n"
     ]
    }
   ],
   "metadata": {}
  }
 ]
}