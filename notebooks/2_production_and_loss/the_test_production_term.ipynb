{
 "metadata": {
  "name": "",
  "signature": "sha256:979ba030ed664c0f324745950073812595f5ca698324e09781a6e67f345efd88"
 },
 "nbformat": 3,
 "nbformat_minor": 0,
 "worksheets": [
  {
   "cells": [
    {
     "cell_type": "markdown",
     "metadata": {},
     "source": [
      "\n"
     ]
    },
    {
     "cell_type": "markdown",
     "metadata": {},
     "source": [
      "The term from the General Equation is:\n",
      "\n",
      "$$\\left(\\frac {\\partial C}{\\partial t}\\right)_{production} = \\space a(x)R(x)\\\\$$\n",
      "\n",
      "This described the rate at which the concentration of dead tests \n",
      "\n",
      "Tests are added at some nominal *production rate*. For convenience, we split up the production into two components<sup>a</sup>: (1) the population size or *standing crop* ($a$); and (2) the population turnover or reproduction rate ($R$). The standing crop is a *concentration* of living individuals - i.e. per cm<sup>3</sup> of sediment - while the turnover rate is per time quantity (e.g. yr<sup>-1</sup>). So we can define the production rate mathematically as,\n",
      "\n",
      "$$\\frac {dC}{dt} = aR$$\n",
      "\n",
      "and therefore the production rate ($\\frac {dC}{dt}$) is in individuals per cm<sup>3</sup> per year (i.e. cm<sup>-3</sup> yr<sup>-3</sup>).\n",
      "\n",
      "In essence, the reproduction rate $R$ is a simple proportionality term linking standing crops with dead test production rate. For example, if the standing crop is 100 individuals per cm<sup>3</sup> and this population turns over twice a year, then 200 tests ($a \\times R = 2 \\times 100 = 200$) will be produced in that volume of sediment within 1 year. Put another way, if the standing crop is 100 individuals per cm<sup>3</sup> and there are 200 dead tests per cm<sup>3</sup> added in 1 year, then the turnover rate is 2<sup>b</sup>. \n",
      "\n",
      "When we introduce sedimentaton, and can therefore conceivably explain the accumulation of all dead tests within a given sediment deposit, we will see that $R$ is one of a few possible parameters that link the two things that we can directly observe, standing crop and dead test concentrations."
     ]
    },
    {
     "cell_type": "code",
     "collapsed": false,
     "input": [],
     "language": "python",
     "metadata": {},
     "outputs": []
    }
   ],
   "metadata": {}
  }
 ]
}