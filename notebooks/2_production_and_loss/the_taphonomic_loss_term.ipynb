{
 "metadata": {
  "name": "",
  "signature": "sha256:8ace0cb4c6de98de0917ffab135b6a18584721caec2e65d1c8dd9c54cbeff2ee"
 },
 "nbformat": 3,
 "nbformat_minor": 0,
 "worksheets": [
  {
   "cells": [
    {
     "cell_type": "markdown",
     "metadata": {},
     "source": [
      "\n",
      "$$\n",
      "\\left(\\frac {\\partial C}{\\partial t}\\right)_{loss} = - \\lambda(x) C\\\\\n",
      "$$"
     ]
    },
    {
     "cell_type": "code",
     "collapsed": false,
     "input": [],
     "language": "python",
     "metadata": {},
     "outputs": []
    }
   ],
   "metadata": {}
  }
 ]
}