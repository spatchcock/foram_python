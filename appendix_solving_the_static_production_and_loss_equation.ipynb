{
 "metadata": {
  "name": "",
  "signature": "sha256:44cc8c1d2f5267495d26c91c6eb19210e8d2acfe74e2612f79ceb754f8d5703c"
 },
 "nbformat": 3,
 "nbformat_minor": 0,
 "worksheets": [
  {
   "cells": [
    {
     "cell_type": "markdown",
     "metadata": {},
     "source": [
      "\n",
      "$$\\frac {d C}{d t} = aR - \\lambda C \\hspace{1cm} (1) $$\n",
      "\n",
      "To solve this equation we need to integrate the right hand side with respect to $t$. The equation is an *ordinary*, *first-order*, *linear* differential equation. The general form of such an equation is,\n",
      "\n",
      "$$\\frac {dy}{dx} + P(x)y = Q(x) $$\n",
      "\n",
      "and can be solved using and approach call the *integrating factor* method. Let's rearrange equation (1) to fit this general form and use an integrating factor to solve it. Equation (1) becomes,\n",
      "\n",
      "$$\\frac {dC}{dt} + \\lambda C = aR \\hspace{1cm} (2) $$\n",
      "\n",
      "So in our case we have $P(x) = \\lambda$ and $Q(x) = aR$. We define the *integrating factor* as,\n",
      "\n",
      "$$IF = e^{\\int {P(x) dx}}$$\n",
      "\n",
      "and therefore in the case of equation (2), the integrating factor is,\n",
      "\n",
      "$$\n",
      "\\begin{array}{rcl}\n",
      "IF &=& e^{\\int {\\lambda dt}} \\\\\n",
      " &=& e^{\\lambda t} \\\\\n",
      "\\end{array}\n",
      "$$\n",
      "\n",
      "The approach is to multiply both sides of the equation by the integrating factor,\n",
      "\n",
      "$$\\frac {dC}{dt}e^{\\lambda t} + \\lambda Ce^{\\lambda t} = aRe^{\\lambda t} $$\n",
      "\n",
      "The trick here is to notice that the left hand side can be simplified using the Product Rule\n",
      "\n",
      "$$ \\frac {d}{dt}(Ce^{\\lambda t}) = \\frac {dC}{dt}e^{\\lambda t} + \\lambda Ce^{\\lambda t} $$\n",
      "\n",
      "and so we can say,\n",
      "\n",
      "$$ \\frac {d}{dt}(Ce^{\\lambda t}) = aRe^{\\lambda t} $$\n",
      "\n",
      "Now we can integrate,\n",
      "\n",
      "\n",
      "$$\n",
      "\\begin{array}{rcl}\n",
      "Ce^{\\lambda t} &=& \\int {aRe^{\\lambda t}dt} + c \\\\\n",
      " &=& aR \\int {e^{\\lambda t} dt} + c \\\\\n",
      " &=& \\frac {aR}{\\lambda} e^{\\lambda t} + c \\\\\n",
      "\\end{array}\n",
      "$$\n",
      "\n",
      "where $c$ is an arbitrary constant of integration. Rearranging, to solve for $C$, gives\n",
      "\n",
      "$$C(t) = \\frac {aR}{\\lambda}  + ce^{-\\lambda t} \\hspace{1cm} (3)$$\n",
      "\n",
      "So now we need to find the value of the integration constant, $c$. Let's define our initial conditions. When $t = 0$, we'll say that the test concentration is $C_0$. When $t = 0$, $e^{-\\lambda t} = 1$. Therefore\n",
      "\n",
      "$$\n",
      "\\begin{array}{rcl}\n",
      "C_0 &=& \\frac {aR}{\\lambda}  + c \\\\\n",
      "c &=& C_0 - \\frac {aR}{\\lambda} \\\\\n",
      "\\end{array}\n",
      "$$\n",
      "\n",
      "Substituting for $c$ in equation (3) gives\n",
      "\n",
      "$$\n",
      "\\begin{array}{rcl}\n",
      "C(t) &=& \\frac {aR}{\\lambda}  + (C_0 - \\frac {aR}{\\lambda}) e^{-\\lambda t} \\\\\n",
      " &=& \\frac {aR}{\\lambda}  + C_0e^{-\\lambda t} - \\frac {aR}{\\lambda}e^{-\\lambda t}  \\\\\n",
      " &=& \\frac {aR}{\\lambda}  - \\frac {aR}{\\lambda}e^{-\\lambda t} + C_0e^{-\\lambda t}  \\\\\n",
      " &=& \\frac {aR}{\\lambda} [1 - e^{-\\lambda t}] + C_0e^{-\\lambda t}  \\hspace{1cm} (4) \\\\\n",
      "\\end{array}\n",
      "$$\n",
      "\n"
     ]
    },
    {
     "cell_type": "markdown",
     "metadata": {},
     "source": [
      "So this is the general solution to the equation (1). It comprises two terms,the first which describes the accumulation of tests produced during the time $t$ together with concommitant loss, while the second term describes the loss of the tests already present at $t_0$."
     ]
    },
    {
     "cell_type": "markdown",
     "metadata": {},
     "source": [
      "In the case that $C_0 = 0$, i.e. we start from a fresh sediment containing no tests, equation (4) reduces to,\n",
      "\n",
      "$$C(t) = a \\frac {R}{\\lambda} \\Big[1 - \\exp(-\\lambda t) \\Big] \\hspace{1cm} (2)$$\n",
      "\n",
      "Whereas in the case of no test production (e.g. $a = 0$ or $R = 0$), it reduces to the basic taphonomic decay equation,\n",
      "\n",
      "$$C(t) = C_0e^{-\\lambda t}$$\n",
      "\n"
     ]
    },
    {
     "cell_type": "code",
     "collapsed": false,
     "input": [],
     "language": "python",
     "metadata": {},
     "outputs": []
    }
   ],
   "metadata": {}
  }
 ]
}