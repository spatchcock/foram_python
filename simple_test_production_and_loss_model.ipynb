{
 "metadata": {
  "name": "",
  "signature": "sha256:4e99258538bd53f099cc5ea8423b37aef1c65e9ec296b80d838c636858ef677f"
 },
 "nbformat": 3,
 "nbformat_minor": 0,
 "worksheets": [
  {
   "cells": [
    {
     "cell_type": "markdown",
     "metadata": {},
     "source": [
      "*Modelling foraminiferal test accumulation in Python* by Andrew Berkeley"
     ]
    },
    {
     "cell_type": "heading",
     "level": 1,
     "metadata": {},
     "source": [
      "A simple model of test production and loss"
     ]
    },
    {
     "cell_type": "markdown",
     "metadata": {},
     "source": [
      "Here, we'll put test production and taphononic decay together for the first time. To keep things simple, we'll drop the mixing and burial terms and consider only a surface sediment (or any *fixed* sediment layer). This means we don't have to consider variations in any of the variables with depth and we'll also assume they don't vary with time. Although this is not very realistic, it gives us a good starting point for understanding how test production and loss interact with one another. With these assumptions, the general equation becomes,\n",
      "\n",
      "$$\\frac {d C}{d t} = aR - \\lambda C \\hspace{1cm} (1) $$\n",
      "\n",
      "This is a fairly simple differential equation which states that the rate of change in dead test concentration is equal to the rate of test production ($aR$) minus the rate of test loss ($\\lambda C$). Right away we can make some simple observations. The rate of change in test concentrations will be positive if $aR > \\lambda C$ and therefore concentrations  will increase through time. Conversely, the rate of test accumulation will be negative if $aR < \\lambda C$ and test concentrations will be decreasing. And if $aR = \\lambda C$, then the rate of change in test concentrations be zero, i.e. test concentrations will stay the same.\n",
      "\n",
      "But let's try to lok at this in more detail. The solution to equation (1) is,\n",
      "\n",
      "$$C(t) = a \\frac {R}{\\lambda} \\Big[1 - \\exp(-\\lambda t) \\Big] \\hspace{1cm} (2)$$\n",
      "\n",
      "which describes how tests accumulate *as function of time* within a single layer (ignoring burial, mixing, etc.). Let use some Python code to plot the time evolution of equation (2) to see what happens to test accumulation."
     ]
    },
    {
     "cell_type": "markdown",
     "metadata": {},
     "source": [
      "First we need to import some useful libraries. <code>numpy</code> allows us to easily work with arrays of numbers, while <code>matplotlib</code> gives us plotting functionality"
     ]
    },
    {
     "cell_type": "code",
     "collapsed": false,
     "input": [
      "import numpy as np\n",
      "import matplotlib.pyplot as plt\n",
      "%matplotlib inline  "
     ],
     "language": "python",
     "metadata": {},
     "outputs": [],
     "prompt_number": 2
    },
    {
     "cell_type": "markdown",
     "metadata": {},
     "source": [
      "We'll evaluate equation (2) for a series of values for time. We'll use the <code>numpy .arange()</code> function to produce a list of numbers from 0 to 200 to represent each successive time, $t$."
     ]
    },
    {
     "cell_type": "code",
     "collapsed": false,
     "input": [
      "t = np.arange(200)"
     ],
     "language": "python",
     "metadata": {},
     "outputs": [],
     "prompt_number": 4
    },
    {
     "cell_type": "markdown",
     "metadata": {},
     "source": [
      "Now we need to set values for the independent variables, population size ($a$), the reproduction rate ($R$) and the taphonomic decay rate ($\\lambda$)."
     ]
    },
    {
     "cell_type": "code",
     "collapsed": false,
     "input": [
      "a = 50\n",
      "R = 1.0\n",
      "lmbda = 0.05 # lambda is a reserved word in Python"
     ],
     "language": "python",
     "metadata": {},
     "outputs": [],
     "prompt_number": 5
    },
    {
     "cell_type": "markdown",
     "metadata": {},
     "source": [
      "And now we can simply evaluate the equation (2) for each time in our <code>t</code> variable. Because <code>t</code> is a <code>numpy</code> array, we can pass it in to basic mathematical operations (e.g. multiplication, <code>*</code>) and the operation is evaluated for every value in the array - that is, the output is an *array* of results."
     ]
    },
    {
     "cell_type": "code",
     "collapsed": false,
     "input": [
      "C = a*(R/lmbda)*(1 - (np.exp(-lmbda*t)))"
     ],
     "language": "python",
     "metadata": {},
     "outputs": [],
     "prompt_number": 6
    },
    {
     "cell_type": "markdown",
     "metadata": {},
     "source": [
      "So now we have a new array, <code>C</code>, which contains the modelled dead test concentrations at each time according to the equation above. Let's plot it out to see what we notice."
     ]
    },
    {
     "cell_type": "code",
     "collapsed": false,
     "input": [
      "fig = plt.figure()\n",
      "\n",
      "p = fig.add_subplot(111, xlim=(0, t[-1]), ylim=(0, np.max(C)*1.1))\n",
      "plt.plot(t, C, lw=3)\n",
      "plt.grid()\n",
      "plt.xlabel('time, t')\n",
      "plt.ylabel('dead test concentration, C')\n",
      "plt.show()"
     ],
     "language": "python",
     "metadata": {},
     "outputs": [
      {
       "metadata": {},
       "output_type": "display_data",
       "png": "[encoded data removed]",
       "text": [
        "<matplotlib.figure.Figure at 0x7f931e8cf550>"
       ]
      }
     ],
     "prompt_number": 7
    },
    {
     "cell_type": "code",
     "collapsed": false,
     "input": [],
     "language": "python",
     "metadata": {},
     "outputs": [],
     "prompt_number": 6
    },
    {
     "cell_type": "code",
     "collapsed": false,
     "input": [],
     "language": "python",
     "metadata": {},
     "outputs": [],
     "prompt_number": 6
    },
    {
     "cell_type": "code",
     "collapsed": false,
     "input": [],
     "language": "python",
     "metadata": {},
     "outputs": [],
     "prompt_number": 6
    },
    {
     "cell_type": "code",
     "collapsed": false,
     "input": [],
     "language": "python",
     "metadata": {},
     "outputs": [],
     "prompt_number": 6
    },
    {
     "cell_type": "code",
     "collapsed": false,
     "input": [],
     "language": "python",
     "metadata": {},
     "outputs": []
    }
   ],
   "metadata": {}
  }
 ]
}