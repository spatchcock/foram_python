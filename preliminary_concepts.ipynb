{
 "metadata": {
  "name": "",
  "signature": "sha256:730a14f51214bc6be264e592092b164ac46a6497c1f7775b28f08222a6a59f98"
 },
 "nbformat": 3,
 "nbformat_minor": 0,
 "worksheets": [
  {
   "cells": [
    {
     "cell_type": "markdown",
     "metadata": {},
     "source": [
      "Mass balance/test continuity\n",
      "\n",
      "Change relative to a single layer versus change relative to surface\n",
      "\n",
      "Environmental change versus dynamical assemblage forming process\n",
      "\n",
      "Steady state\n",
      "\n",
      "Burial as advection\n",
      "\n",
      "experiments versus data and parameter fitting\n",
      "\n",
      "model assumptions - model only valid as assumptions; assumptions may be necessary due to available data\n",
      "\n",
      "\n",
      "\n"
     ]
    },
    {
     "cell_type": "code",
     "collapsed": false,
     "input": [],
     "language": "python",
     "metadata": {},
     "outputs": []
    }
   ],
   "metadata": {}
  }
 ]
}