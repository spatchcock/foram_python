{
 "metadata": {
  "name": "",
  "signature": "sha256:35bdaae8406353b9bdfda2d712832260bfd8c54c4c2a90086d43a6c214e4237c"
 },
 "nbformat": 3,
 "nbformat_minor": 0,
 "worksheets": [
  {
   "cells": [
    {
     "cell_type": "code",
     "collapsed": false,
     "input": [],
     "language": "python",
     "metadata": {},
     "outputs": []
    },
    {
     "cell_type": "markdown",
     "metadata": {},
     "source": [
      "\n",
      "$$\n",
      "\\left(\\frac {\\partial C}{\\partial t}\\right)_{burial} = - w\\frac {\\partial C}{\\partial x}\\\\\n",
      "$$."
     ]
    },
    {
     "cell_type": "code",
     "collapsed": false,
     "input": [],
     "language": "python",
     "metadata": {},
     "outputs": []
    }
   ],
   "metadata": {}
  }
 ]
}