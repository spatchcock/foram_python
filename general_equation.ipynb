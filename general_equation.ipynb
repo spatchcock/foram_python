{
 "metadata": {
  "name": "",
  "signature": "sha256:0aeca05f3f67c77d6f8b4659fb4673af8cac00110a41360625274a9c6f1b0587"
 },
 "nbformat": 3,
 "nbformat_minor": 0,
 "worksheets": [
  {
   "cells": [
    {
     "cell_type": "heading",
     "level": 3,
     "metadata": {},
     "source": [
      "The General Foraminiferal Equation"
     ]
    },
    {
     "cell_type": "markdown",
     "metadata": {},
     "source": [
      "The general equation for foraminiferal test accumulation is:\n",
      "\n",
      "$$\\frac {\\partial C}{\\partial t} = D(x)\\frac {\\partial ^2C}{\\partial x^2} - w\\frac {\\partial C}{\\partial x} + a(x)R(x) - \\lambda(x) C$$\n",
      "\n",
      "where $C$ is the concentration of *dead* tests per unit volume of sediment, $t$ is time, $x$ is depth into the sediment, \n",
      "$D$ is the rate of biodiffusion (mixing, e.g. bioturbation), $w$ the rate of sedimentation (burial), $a$ is the concentration of living individuals per unit volume of sediment, $R$ the rate of population turnover (per unit time) and \n",
      "$\\lambda$ the rate of taphonomic decay (per unit time).\n",
      "\n",
      "The left hand side of the equation is a *partial derivative*. It simply describes a *rate*, specifically the rate at which the concentration of dead foraminiferal tests ($C$) changes through time ($t$). So the entire equation is describing how fast (and in what direction) the concentration of dead tests are changing. It follows that if we know the number of dead tests that exist at one point in time (which may be zero tests), we can use the equation to predict the number of tests at some later time.\n",
      "\n",
      "What about the right-hand side? Well, if the left-hand side describes a change in *tests per volume of sediment per time*, then the right-hand side must describe the same units. And since the right-hand side is comprised of four separate terms, we know that each of them individually must represent a change in *tests per volume of sediment per time* (because only quantities with identical units can be added to or subtracted from one another). So we can consider the right-hand side as the sum of separate processes each of which result in a particular change to the concentration of dead tests.\n",
      "\n",
      "We could write,\n",
      "\n",
      "$$\\frac {\\partial C}{\\partial t} = \\left(\\frac {\\partial C}{\\partial t}\\right)_{mixing} + \\left(\\frac {\\partial C}{\\partial t}\\right)_{burial} + \\left(\\frac {\\partial C}{\\partial t}\\right)_{production} + \\left(\\frac {\\partial C}{\\partial t}\\right)_{taphonomic \\space loss}$$\n",
      "\n",
      "That's not quite so cryptic is it? The rate at which the concentration of dead tests changes is simply the rates due to test production, taphonomic loss, burial and mixing all added together. We'll take a look at each individual term in more detail and model a variety of scenarios in subsequent posts. "
     ]
    },
    {
     "cell_type": "heading",
     "level": 3,
     "metadata": {},
     "source": [
      "The *most* general equation"
     ]
    },
    {
     "cell_type": "markdown",
     "metadata": {},
     "source": [
      "The equation presented at the start can actually be further generalised.\n",
      "\n",
      "$$\\frac {\\partial C(x,y,z,t)}{\\partial t} = D(x,y,z,t)\\frac {\\partial ^2C(x,y,z,t)}{\\partial z^2} - w(x,y,t)\\frac {\\partial C(x,y,z,t)}{\\partial z} + a(x,y,z,t)R(x,y,z,t) - \\lambda(x,y,z,t) C(x,y,z,t)$$\n",
      "\n",
      "Okay, the difference is all those terms in parentheses. What do they mean? Well, $x$, $y$ and $z$ are the 3 spatial dimensions, while $t$ is just time. So what all those parentheses are doing is suggesting that the variable they are attached to might vary in each of these dimensions. \n",
      "\n",
      "We can imagine that the population of living foraminifera, say, may vary across space, perhaps along some sort of environmental gradient (e.g. salinity). Equally there may be differences through time, perhaps linked to seasonality of temperature or organic inputs. We might want to model these variations across space or through time and therefore any sufficiently general model must be able to describe this variability. In fact, most of the variables described in the model could plausibly vary across 3-dimensional space and time (e.g. taphonomic loss, bioturbation rate) and so all are formerly specified as potential functions of $x$, $y$, $z$ and $t$ in the formulation above. "
     ]
    },
    {
     "cell_type": "heading",
     "level": 3,
     "metadata": {},
     "source": [
      "References"
     ]
    },
    {
     "cell_type": "markdown",
     "metadata": {},
     "source": [
      "Berkeley et al. (2014)\n",
      "Green et al. (1993)"
     ]
    },
    {
     "cell_type": "code",
     "collapsed": false,
     "input": [],
     "language": "python",
     "metadata": {},
     "outputs": []
    }
   ],
   "metadata": {}
  }
 ]
}