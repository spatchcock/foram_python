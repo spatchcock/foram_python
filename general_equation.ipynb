{
 "metadata": {
  "name": "",
  "signature": "sha256:5abcea8741ae032033c0bb89b689e09af302af96166ae86166af4a5cdbe7f535"
 },
 "nbformat": 3,
 "nbformat_minor": 0,
 "worksheets": [
  {
   "cells": [
    {
     "cell_type": "heading",
     "level": 3,
     "metadata": {},
     "source": [
      "The General Foraminiferal Equation"
     ]
    },
    {
     "cell_type": "markdown",
     "metadata": {},
     "source": [
      "The general equation for foraminiferal test accumulation is:\n",
      "\n",
      "$$\\frac {\\partial C}{\\partial t} = D(x)\\frac {\\partial ^2C}{\\partial x^2} - w\\frac {\\partial C}{\\partial x} + a(x)R(x) - \\lambda(x) C$$\n",
      "\n",
      "where $C$ is the concentration of *dead* tests per unit volume of sediment, $t$ is time, $x$ is depth into the sediment, \n",
      "$D$ is the rate of biodiffusion (mixing, e.g. bioturbation), $w$ the rate of sedimentation (burial), $a$ is the concentration of living individuals per unit volume of sediment, $R$ the rate of population turnover (per unit time) and \n",
      "$\\lambda$ the rate of taphonomic decay (per unit time).\n",
      "\n",
      "The left hand side of the equation is a *partial derivative*. It simply describes a *rate*, specifically the rate at which the concentration of dead foraminiferal tests ($C$) changes through time ($t$). So the entire equation is describing how fast (and in what direction) the concentration of dead tests are changing. It follows that if we know the number of dead tests that exist at one point in time (which may be zero tests), we can use the equation to predict the number of tests at some later time.\n",
      "\n",
      "What about the right-hand side? Well, if the left-hand side describes a change in *tests per volume of sediment per time*, then the right-hand side must describe the same units. And since the right-hand side is comprised of four separate terms, we know that each of them individually must represent a change in *tests per volume of sediment per time* (because only quantities with identical units can be added to or subtracted from one another). So we can consider the right-hand side as the sum of separate processes each of which result in a particular change to the concentration of dead tests.\n",
      "\n",
      "We could write,\n",
      "\n",
      "$$\\frac {\\partial C}{\\partial t} = \\left(\\frac {\\partial C}{\\partial t}\\right)_{mixing} + \\left(\\frac {\\partial C}{\\partial t}\\right)_{burial} + \\left(\\frac {\\partial C}{\\partial t}\\right)_{production} + \\left(\\frac {\\partial C}{\\partial t}\\right)_{loss}$$\n",
      "\n",
      "That's not quite so cryptic is it? The rate at which the concentration of dead tests changes is simply the rates due to test production, taphonomic loss, burial and mixing all added together. And the individual rates are described by the terms in the original equation.\n",
      "\n",
      "$$\n",
      "\\begin{aligned}\n",
      "& \\left(\\frac {\\partial C}{\\partial t}\\right)_{mixing} &  = & \\space D(x)\\frac {\\partial ^2C}{\\partial x^2}\\\\\n",
      "& \\left(\\frac {\\partial C}{\\partial t}\\right)_{burial} &  = &- w\\frac {\\partial C}{\\partial x}\\\\\n",
      "& \\left(\\frac {\\partial C}{\\partial t}\\right)_{production} & = & \\space a(x)R(x)\\\\\n",
      "& \\left(\\frac {\\partial C}{\\partial t}\\right)_{loss} & = & - \\lambda(x) C\\\\\n",
      "\\end{aligned}\n",
      "$$.\n",
      "\n",
      "We can more or less just mix and match the terms above depending on what precisely we want to model. We'll take a look at each individual term in more detail and model a variety of scenarios in subsequent posts."
     ]
    },
    {
     "cell_type": "heading",
     "level": 3,
     "metadata": {},
     "source": [
      "The *most* general equation"
     ]
    },
    {
     "cell_type": "markdown",
     "metadata": {},
     "source": [
      "One other thing worth mentioning: there are two *independent* variables in the equation above, time ($t$) and depth ($x$). This means that any evaluation of dead test concentration ($C$) is associated with a specific time and a specific depth which allows us to model the dynamics of test accumulation through time and with depth in to the sediment. We can, for example, show how tests accumulate during burial, and we can incorporate variations through time and with depth in things like living populations (e.g. seasonality, infauna) and the rates of population turnover and taphonomic decay.\n",
      "\n",
      "But the processes described in the model might vary in other dimensions. For example, populations of foraminifera may vary across space in response to some environmental gradient (e.g. salinity, organics, oxygen). Or perhaps the intensities of bioturbation or taphonomic decay might vary across space, for example if we move from a salt marsh onto a mudflat environment. If we want model such variability then we need to include 2 or 3 spatial dimensions in our model.\n",
      "\n",
      "So, the equation presented at the start can be further generalised.\n",
      "\n",
      "$$\\frac {\\partial C(x,y,z,t)}{\\partial t} = D(x,y,z,t)\\frac {\\partial ^2C(x,y,z,t)}{\\partial z^2} - w(x,y,t)\\frac {\\partial C(x,y,z,t)}{\\partial z} + a(x,y,z,t)R(x,y,z,t) - \\lambda(x,y,z,t) C(x,y,z,t)$$\n",
      "\n",
      "The difference is all those terms in parentheses. In this formulation, $x$, $y$ and $z$ are the 3 spatial dimensions, while $t$ is still time. So all this says is that each of the variables might vary in each of these dimensions. In most cases, we will not need to explcitly resolve all of these dimensions, and instead will be content with a 1-dimensional model in space, with or without the time dimension."
     ]
    },
    {
     "cell_type": "heading",
     "level": 3,
     "metadata": {},
     "source": [
      "Further reading"
     ]
    },
    {
     "cell_type": "markdown",
     "metadata": {},
     "source": [
      "Berkeley et al. (2014)"
     ]
    },
    {
     "cell_type": "code",
     "collapsed": false,
     "input": [],
     "language": "python",
     "metadata": {},
     "outputs": []
    }
   ],
   "metadata": {}
  }
 ]
}