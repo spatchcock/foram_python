{
 "metadata": {
  "name": "",
  "signature": "sha256:54c143148a6c7c612f9e01d028f12169cddf8905df72a77e3d61dfe82d0199f5"
 },
 "nbformat": 3,
 "nbformat_minor": 0,
 "worksheets": [
  {
   "cells": [
    {
     "cell_type": "heading",
     "level": 1,
     "metadata": {},
     "source": [
      "The general equation\n"
     ]
    },
    {
     "cell_type": "markdown",
     "metadata": {},
     "source": [
      "The general equation for foraminiferal test accumulation is:\n",
      "\n",
      "$$\\frac {\\partial C(x,y,z,t)}{\\partial t} = D(x,y,z,t)\\frac {\\partial ^2C(x,y,z,t)}{\\partial z^2} - w(x,y,t)\\frac {\\partial C(x,y,z,t)}{\\partial z} + a(x,y,z,t)R(x,y,z,t) - \\lambda(x,y,z,t) C(x,y,z,t)$$\n",
      "\n",
      "It looks complicated doesn't it? But it really isn't all that complicated. I've purposely made it as general as possible (by including all the terms in parentheses) but for many problems we can make assumptions that simplify it considerably. We'll take a look at each term in more detail and use the equation to model a variety of scenarios in subsequent posts. For now, lets just break it down a little bit."
     ]
    },
    {
     "cell_type": "markdown",
     "metadata": {},
     "source": [
      "Okay, all those terms in parentheses, what do they mean? Well, $x$, $y$ and $z$ are the 3 spatial dimensions, while $t$ is just time. So what all those parentheses are doing is suggesting that the variable they are attached to might vary in each of these dimensions. We can imagine that the population of living foraminifera, say, may vary across space, perhaps along some sort of environmental gradient (e.g. salinity). Equally there may be differences through time, perhaps linked to seasonality of temperature or organic inputs. We might therefore want to model these variations across space or through time and therefore any sufficiently general model must be able to describe this variability. In fact, most of the variables described in the model could plausibly vary across 3-dimensional space and time (e.g. taphonomic loss, bioturbation rate) and so all are formerly specified as potential functions of $x$, $y$, $z$ and $t$ using the messy parentheses syntax. \n",
      "\n",
      "But this is needlessly complicated. Let's say we're not interested in spatial variability for now: we have one single-point location that we are interested in, perhaps a single sediment core, and that's all we want to deal with. Then the general equation reduces to:\n",
      "\n",
      "$$\\frac {\\partial C}{\\partial t} = D(x)\\frac {\\partial ^2C}{\\partial x^2} - w\\frac {\\partial C}{\\partial x} + a(x)R(x) - \\lambda(x) C$$\n",
      "\n",
      "That's a bit easier to digest hopefully, so let's have a go."
     ]
    },
    {
     "cell_type": "markdown",
     "metadata": {},
     "source": [
      "The left hand side of the equation is a *partial derivative*. It simply describes a *rate*, specifically the rate at which the concentration of dead foraminiferal tests ($C$) changes through time ($t$). So the entire equation is describing how fast the concentration of dead tests changes. \n",
      "\n",
      "So if the left-hand side describes a change in *tests per volume of sediment per time*, then the right-hand side must describe the same units. And since the right-hand side is comprised of four separate terms, we know that each of them individually must represent a change in *tests per volume of sediment per time* (because only quantities with identical units can be added to or subtracted from one another). So we can consider the right-hand side as the sum of separate processes each of which result in a change to the concentration of dead tests.\n",
      "\n",
      "We could write,\n",
      "\n",
      "$$\\frac {\\partial C}{\\partial t} = \\left(\\frac {\\partial C}{\\partial t}\\right)_{mixing} + \\left(\\frac {\\partial C}{\\partial t}\\right)_{burial} + \\left(\\frac {\\partial C}{\\partial t}\\right)_{production} - \\left(\\frac {\\partial C}{\\partial t}\\right)_{taphonomic \\space loss}$$\n",
      "\n",
      "That's not quite so cryptic is it? The rate at which the concentration of dead tests changes is simply the rates due to test production, taphonomic loss, burial and mixing all added together.\n",
      "\n",
      "Just to show simple this can get and not put you off so early, here's a few more simplifications. What if we're only concerned with very short-term dynamics (e.g. seasonal)? Then we can dispense with burial and arguably mixing which may occur on longer time scales. Then we get simply,\n",
      "\n",
      "$$\\frac {\\partial C}{\\partial t} = aR - \\lambda C$$\n",
      "\n",
      "Maybe we've even got good reason to discard one of the two terms on the right-hand side of that equation (test production and taphonomic loss), in which case it gets even simpler.\n",
      "\n",
      "Alternatively, we can assume that there are no changes through time at all ($\\frac {\\partial C}{\\partial t} = 0$)! If we ignore mixing in this case (for simplicity but a reasonble assumption in some cases) we get,\n",
      "\n",
      "$$0 = - w\\frac {\\partial C}{\\partial x} + a(x)R(x) - \\lambda(x) C$$\n",
      "\n",
      "which we can rearrange to,\n",
      "\n",
      "$$\\frac {\\partial C}{\\partial x} = \\frac {a(x)R(x) - \\lambda(x) C}{w}$$\n",
      "\n",
      "This now explicitly describes test\n"
     ]
    },
    {
     "cell_type": "heading",
     "level": 3,
     "metadata": {},
     "source": [
      "Equation terms"
     ]
    },
    {
     "cell_type": "markdown",
     "metadata": {},
     "source": [
      "$C$, concentration of *dead* tests per unit volume of sediment\n",
      "\n",
      "$t$, time \n",
      "\n",
      "$x,y,z$, distance in 3 dimensions\n",
      "\n",
      "$D$, rate of biodiffusion (mixing, e.g. bioturbation)\n",
      "\n",
      "$w$, rate of sedimentation (burial)\n",
      "\n",
      "$a$, concentration of living individuals per unit volume of sediment\n",
      "\n",
      "$R$, rate of population turnover (per unit time)\n",
      "\n",
      "$\\lambda$, rate of taphonomic decay (per unit time)"
     ]
    },
    {
     "cell_type": "heading",
     "level": 3,
     "metadata": {},
     "source": [
      "References"
     ]
    },
    {
     "cell_type": "markdown",
     "metadata": {},
     "source": [
      "Berkeley et al. (2014)\n",
      "Green et al. (1993)"
     ]
    }
   ],
   "metadata": {}
  }
 ]
}