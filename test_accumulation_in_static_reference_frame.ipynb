{
 "metadata": {
  "name": "",
  "signature": "sha256:0b8259ac7e2f58c184e99f073a3da69fd04a22b353351c8553f0aa3bf030da7a"
 },
 "nbformat": 3,
 "nbformat_minor": 0,
 "worksheets": [
  {
   "cells": [
    {
     "cell_type": "markdown",
     "metadata": {},
     "source": [
      "Here, we'll descibe the simplest models of foraminiferal test accumulation. We are going to assume that no sedimentation takes place and therefore we can study the dynamics of test acculation within a *static* (i.e. stationary) volume of sediment. In principle, this volume could be beneath the sediment surface but we'll assume that we are taking about surficial sediments. Again, in principle, this surficial volume could be any thickness (1 cm, 7 cm, 20 cm, ...), but we'll assume we are discussing the first 1 or 2 centimetres, as is conventionally sampled in many studies on modern foraminifera."
     ]
    },
    {
     "cell_type": "heading",
     "level": 3,
     "metadata": {},
     "source": [
      "Test production"
     ]
    },
    {
     "cell_type": "markdown",
     "metadata": {},
     "source": [
      "Let's start with test production. Tests are added at some nominal *production rate*. For convenience, we split up the production into two components<sup>a</sup>: (1) the population size or *standing crop* ($a$); and (2) the population turnover or reproduction rate ($R$). The standing crop is a *concentration* of living individuals - i.e. per cm<sup>3</sup> of sediment - while the turnover rate is per time quantity (e.g. yr<sup>-1</sup>). So we can define the production rate mathematically as,\n",
      "\n",
      "$$\\frac {dC}{dt} = aR$$\n",
      "\n",
      "and therefore the production rate ($\\frac {dC}{dt}$) is in individuals per cm<sup>3</sup> per year (i.e. cm<sup>-3</sup> yr<sup>-3</sup>).\n",
      "\n",
      "In essence, the reproduction rate $R$ is a simple proportionality term linking standing crops with dead test production rate. For example, if the standing crop is 100 individuals per cm<sup>3</sup> and this population turns over twice a year, then 200 tests ($a \\times R = 2 \\times 100 = 200$) will be produced in that volume of sediment within 1 year. Put another way, if the standing crop is 100 individuals per cm<sup>3</sup> and there are 200 dead tests per cm<sup>3</sup> added in 1 year, then the turnover rate is 2<sup>b</sup>. \n",
      "\n",
      "When we introduce sedimentaton, and can therefore conceivably explain the accumulation of all dead tests within a given sediment deposit, we will see that $R$ is one of a few possible parameters that link the two things that we can directly observe, standing crop and dead test concentrations."
     ]
    },
    {
     "cell_type": "markdown",
     "metadata": {},
     "source": [
      "Integrating the production rate equation gives an expression for the dead test concentration as a function of time<sup>c</sup>.\n",
      "\n",
      "$$C_t = C_0 + aRt$$\n",
      "\n",
      "Nice and easy, eh? This is a very simple model in which test concentration increases linearly through time from a starting concentration ($C_0$). The number of tests added during the time period under consideration is just rate of test production ($aR$) multiplied by the length of time ($t$). \n",
      "\n",
      "We can use this to model changes in test concentrations over, say, a number of years, or even predict the concentration of tests within sediment devoid of foraminifera (i.e. $C_0 = 0$) at some time $t$ after colonisation."
     ]
    },
    {
     "cell_type": "heading",
     "level": 3,
     "metadata": {},
     "source": [
      "Footnotes"
     ]
    },
    {
     "cell_type": "markdown",
     "metadata": {},
     "source": [
      "(a) One good reason for doing this is that we can often measure the number of individuals living within a volume of sediment at some given time and therefore this can give a good indication of how populations (and *presumably* test production) vary between times, locations and sedimentary depths. But it is often not clear how fast these populations turnover and produce dead tests. Splitting production up into these terms therefore allows us exploit the population data ($a$) that we may have, and also represent distinct ecological concepts (population size and carrying capacity versus reproduction rate). \n",
      "\n",
      "(b) We assume, for now, that the standing crop and reproduction rates stay constant through time. This is a significant simplificiation and may be appropriate in the case of long term studies using good, representative values for the average standing crop. Alternatively, standing crops and/or turnover rates can be modelled as functions of time (i.e. $a(t)$, $R(t)$) in order to specifically represent temporally variabilty. In the case that the standing crop is modelled using a time-varying function, some turnover rate is still required to convert the population concentration in to a per time input. \n",
      "\n",
      "(c) Ignoring taphonomic loss, sedimentation, and bioturbation."
     ]
    },
    {
     "cell_type": "code",
     "collapsed": false,
     "input": [],
     "language": "python",
     "metadata": {},
     "outputs": []
    }
   ],
   "metadata": {}
  }
 ]
}